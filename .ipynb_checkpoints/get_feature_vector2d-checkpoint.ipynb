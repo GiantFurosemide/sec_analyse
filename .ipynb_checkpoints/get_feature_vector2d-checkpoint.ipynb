{
 "cells": [
  {
   "cell_type": "code",
   "execution_count": 1,
   "metadata": {},
   "outputs": [],
   "source": [
    "import matplotlib.pyplot as plt\n",
    "import numpy as np\n",
    "import nltk\n",
    "import pandas as pd\n",
    "import TraverseDir.TraverseDir as td\n",
    "import pandas_toolkit.mytoolkit as tk"
   ]
  },
  {
   "cell_type": "code",
   "execution_count": 2,
   "metadata": {},
   "outputs": [],
   "source": [
    "#read csv files:name and path"
   ]
  },
  {
   "cell_type": "code",
   "execution_count": 3,
   "metadata": {},
   "outputs": [],
   "source": [
    "rootDir = '/Users/wangmu/Documents/Science/mG1/数据/sec'"
   ]
  },
  {
   "cell_type": "code",
   "execution_count": 7,
   "metadata": {},
   "outputs": [],
   "source": [
    "file_path_list = td.show_all_path(rootDir)\n",
    "file_name_list = td.get_filename(file_path_list)"
   ]
  },
  {
   "cell_type": "code",
   "execution_count": 19,
   "metadata": {},
   "outputs": [
    {
     "data": {
      "text/plain": [
       "8193"
      ]
     },
     "execution_count": 19,
     "metadata": {},
     "output_type": "execute_result"
    }
   ],
   "source": [
    "#overview alldata in rootDir\n",
    "len(file_name_list)"
   ]
  },
  {
   "cell_type": "code",
   "execution_count": 8,
   "metadata": {},
   "outputs": [],
   "source": [
    "# overview all data in our lab\n",
    "\n",
    "#testdir = '/Users/wangmu/Desktop/laballdata'\n",
    "#file_path_list = td.show_all_path(testdir)\n",
    "#file_name_list = td.get_filename(file_path_list)\n",
    "#len(file_name_list)\n",
    "\n",
    "# >49593"
   ]
  },
  {
   "cell_type": "code",
   "execution_count": 10,
   "metadata": {},
   "outputs": [],
   "source": [
    "# make list[('name',pandas.df),...]\n",
    "data_list = []\n",
    "for finame,fipath in zip(file_name_list,file_path_list):\n",
    "#try:\n",
    "    #print(fipath)\n",
    "    data_pair= (finame,tk.onestep_norm_peak2zero(fipath))\n",
    "    data_list.append(data_pair)\n",
    "    \n",
    "#Except TypeError as error:\n",
    "#   with open('error.txt','w') as error_fi:\n",
    "#       print(error,file=error_fi)\n",
    "#   pass\n",
    "\n",
    "ss = data_list\n"
   ]
  },
  {
   "cell_type": "code",
   "execution_count": 74,
   "metadata": {},
   "outputs": [
    {
     "name": "stdout",
     "output_type": "stream",
     "text": [
      "8193\n"
     ]
    },
    {
     "data": {
      "text/plain": [
       "('5415',       time  peak\n",
       " 0      NaN   NaN\n",
       " 1      NaN   NaN\n",
       " 2      NaN   NaN\n",
       " 3      NaN   NaN\n",
       " 4      NaN   NaN\n",
       " 5      NaN   NaN\n",
       " 6      NaN   NaN\n",
       " 7      NaN   NaN\n",
       " 8      NaN   NaN\n",
       " 9      NaN   NaN\n",
       " 10     NaN   NaN\n",
       " 11     NaN   NaN\n",
       " 12     NaN   NaN\n",
       " 13     NaN   NaN\n",
       " 14     NaN   NaN\n",
       " 15     NaN   NaN\n",
       " 16     NaN   NaN\n",
       " 17     NaN   NaN\n",
       " 18     NaN   NaN\n",
       " 19     NaN   NaN\n",
       " 20     NaN   NaN\n",
       " 21     NaN   NaN\n",
       " 22     NaN   NaN\n",
       " 23     NaN   NaN\n",
       " 24     NaN   NaN\n",
       " 25     NaN   NaN\n",
       " 26     NaN   NaN\n",
       " 27     NaN   NaN\n",
       " 28     NaN   NaN\n",
       " 29     NaN   NaN\n",
       " ...    ...   ...\n",
       " 3271   NaN   NaN\n",
       " 3272   NaN   NaN\n",
       " 3273   NaN   NaN\n",
       " 3274   NaN   NaN\n",
       " 3275   NaN   NaN\n",
       " 3276   NaN   NaN\n",
       " 3277   NaN   NaN\n",
       " 3278   NaN   NaN\n",
       " 3279   NaN   NaN\n",
       " 3280   NaN   NaN\n",
       " 3281   NaN   NaN\n",
       " 3282   NaN   NaN\n",
       " 3283   NaN   NaN\n",
       " 3284   NaN   NaN\n",
       " 3285   NaN   NaN\n",
       " 3286   NaN   NaN\n",
       " 3287   NaN   NaN\n",
       " 3288   NaN   NaN\n",
       " 3289   NaN   NaN\n",
       " 3290   NaN   NaN\n",
       " 3291   NaN   NaN\n",
       " 3292   NaN   NaN\n",
       " 3293   NaN   NaN\n",
       " 3294   NaN   NaN\n",
       " 3295   NaN   NaN\n",
       " 3296   NaN   NaN\n",
       " 3297   NaN   NaN\n",
       " 3298   NaN   NaN\n",
       " 3299   NaN   NaN\n",
       " 3300   NaN   NaN\n",
       " \n",
       " [3301 rows x 2 columns])"
      ]
     },
     "execution_count": 74,
     "metadata": {},
     "output_type": "execute_result"
    }
   ],
   "source": [
    "# overview ss\n",
    "print(len(ss))\n",
    "ss[0]"
   ]
  },
  {
   "cell_type": "code",
   "execution_count": 37,
   "metadata": {},
   "outputs": [],
   "source": [
    "test_data = ss[200]"
   ]
  },
  {
   "cell_type": "code",
   "execution_count": 38,
   "metadata": {},
   "outputs": [],
   "source": [
    "tname,tdf = test_data"
   ]
  },
  {
   "cell_type": "code",
   "execution_count": 39,
   "metadata": {},
   "outputs": [
    {
     "data": {
      "text/plain": [
       "'6930'"
      ]
     },
     "execution_count": 39,
     "metadata": {},
     "output_type": "execute_result"
    }
   ],
   "source": [
    "tname\n"
   ]
  },
  {
   "cell_type": "code",
   "execution_count": 40,
   "metadata": {},
   "outputs": [
    {
     "data": {
      "text/html": [
       "<div>\n",
       "<style scoped>\n",
       "    .dataframe tbody tr th:only-of-type {\n",
       "        vertical-align: middle;\n",
       "    }\n",
       "\n",
       "    .dataframe tbody tr th {\n",
       "        vertical-align: top;\n",
       "    }\n",
       "\n",
       "    .dataframe thead th {\n",
       "        text-align: right;\n",
       "    }\n",
       "</style>\n",
       "<table border=\"1\" class=\"dataframe\">\n",
       "  <thead>\n",
       "    <tr style=\"text-align: right;\">\n",
       "      <th></th>\n",
       "      <th>time</th>\n",
       "      <th>peak</th>\n",
       "    </tr>\n",
       "  </thead>\n",
       "  <tbody>\n",
       "    <tr>\n",
       "      <th>0</th>\n",
       "      <td>NaN</td>\n",
       "      <td>NaN</td>\n",
       "    </tr>\n",
       "    <tr>\n",
       "      <th>1</th>\n",
       "      <td>NaN</td>\n",
       "      <td>NaN</td>\n",
       "    </tr>\n",
       "    <tr>\n",
       "      <th>2</th>\n",
       "      <td>NaN</td>\n",
       "      <td>NaN</td>\n",
       "    </tr>\n",
       "    <tr>\n",
       "      <th>3</th>\n",
       "      <td>NaN</td>\n",
       "      <td>NaN</td>\n",
       "    </tr>\n",
       "    <tr>\n",
       "      <th>4</th>\n",
       "      <td>NaN</td>\n",
       "      <td>NaN</td>\n",
       "    </tr>\n",
       "    <tr>\n",
       "      <th>5</th>\n",
       "      <td>NaN</td>\n",
       "      <td>NaN</td>\n",
       "    </tr>\n",
       "    <tr>\n",
       "      <th>6</th>\n",
       "      <td>NaN</td>\n",
       "      <td>NaN</td>\n",
       "    </tr>\n",
       "    <tr>\n",
       "      <th>7</th>\n",
       "      <td>NaN</td>\n",
       "      <td>NaN</td>\n",
       "    </tr>\n",
       "    <tr>\n",
       "      <th>8</th>\n",
       "      <td>NaN</td>\n",
       "      <td>NaN</td>\n",
       "    </tr>\n",
       "    <tr>\n",
       "      <th>9</th>\n",
       "      <td>NaN</td>\n",
       "      <td>NaN</td>\n",
       "    </tr>\n",
       "    <tr>\n",
       "      <th>10</th>\n",
       "      <td>NaN</td>\n",
       "      <td>NaN</td>\n",
       "    </tr>\n",
       "    <tr>\n",
       "      <th>11</th>\n",
       "      <td>NaN</td>\n",
       "      <td>NaN</td>\n",
       "    </tr>\n",
       "    <tr>\n",
       "      <th>12</th>\n",
       "      <td>NaN</td>\n",
       "      <td>NaN</td>\n",
       "    </tr>\n",
       "    <tr>\n",
       "      <th>13</th>\n",
       "      <td>NaN</td>\n",
       "      <td>NaN</td>\n",
       "    </tr>\n",
       "    <tr>\n",
       "      <th>14</th>\n",
       "      <td>NaN</td>\n",
       "      <td>NaN</td>\n",
       "    </tr>\n",
       "    <tr>\n",
       "      <th>15</th>\n",
       "      <td>NaN</td>\n",
       "      <td>NaN</td>\n",
       "    </tr>\n",
       "    <tr>\n",
       "      <th>16</th>\n",
       "      <td>NaN</td>\n",
       "      <td>NaN</td>\n",
       "    </tr>\n",
       "    <tr>\n",
       "      <th>17</th>\n",
       "      <td>NaN</td>\n",
       "      <td>NaN</td>\n",
       "    </tr>\n",
       "    <tr>\n",
       "      <th>18</th>\n",
       "      <td>NaN</td>\n",
       "      <td>NaN</td>\n",
       "    </tr>\n",
       "    <tr>\n",
       "      <th>19</th>\n",
       "      <td>NaN</td>\n",
       "      <td>NaN</td>\n",
       "    </tr>\n",
       "    <tr>\n",
       "      <th>20</th>\n",
       "      <td>NaN</td>\n",
       "      <td>NaN</td>\n",
       "    </tr>\n",
       "    <tr>\n",
       "      <th>21</th>\n",
       "      <td>NaN</td>\n",
       "      <td>NaN</td>\n",
       "    </tr>\n",
       "    <tr>\n",
       "      <th>22</th>\n",
       "      <td>NaN</td>\n",
       "      <td>NaN</td>\n",
       "    </tr>\n",
       "    <tr>\n",
       "      <th>23</th>\n",
       "      <td>NaN</td>\n",
       "      <td>NaN</td>\n",
       "    </tr>\n",
       "    <tr>\n",
       "      <th>24</th>\n",
       "      <td>NaN</td>\n",
       "      <td>NaN</td>\n",
       "    </tr>\n",
       "    <tr>\n",
       "      <th>25</th>\n",
       "      <td>NaN</td>\n",
       "      <td>NaN</td>\n",
       "    </tr>\n",
       "    <tr>\n",
       "      <th>26</th>\n",
       "      <td>NaN</td>\n",
       "      <td>NaN</td>\n",
       "    </tr>\n",
       "    <tr>\n",
       "      <th>27</th>\n",
       "      <td>NaN</td>\n",
       "      <td>NaN</td>\n",
       "    </tr>\n",
       "    <tr>\n",
       "      <th>28</th>\n",
       "      <td>NaN</td>\n",
       "      <td>NaN</td>\n",
       "    </tr>\n",
       "    <tr>\n",
       "      <th>29</th>\n",
       "      <td>NaN</td>\n",
       "      <td>NaN</td>\n",
       "    </tr>\n",
       "    <tr>\n",
       "      <th>...</th>\n",
       "      <td>...</td>\n",
       "      <td>...</td>\n",
       "    </tr>\n",
       "    <tr>\n",
       "      <th>1770</th>\n",
       "      <td>NaN</td>\n",
       "      <td>NaN</td>\n",
       "    </tr>\n",
       "    <tr>\n",
       "      <th>1771</th>\n",
       "      <td>NaN</td>\n",
       "      <td>NaN</td>\n",
       "    </tr>\n",
       "    <tr>\n",
       "      <th>1772</th>\n",
       "      <td>NaN</td>\n",
       "      <td>NaN</td>\n",
       "    </tr>\n",
       "    <tr>\n",
       "      <th>1773</th>\n",
       "      <td>NaN</td>\n",
       "      <td>NaN</td>\n",
       "    </tr>\n",
       "    <tr>\n",
       "      <th>1774</th>\n",
       "      <td>NaN</td>\n",
       "      <td>NaN</td>\n",
       "    </tr>\n",
       "    <tr>\n",
       "      <th>1775</th>\n",
       "      <td>NaN</td>\n",
       "      <td>NaN</td>\n",
       "    </tr>\n",
       "    <tr>\n",
       "      <th>1776</th>\n",
       "      <td>NaN</td>\n",
       "      <td>NaN</td>\n",
       "    </tr>\n",
       "    <tr>\n",
       "      <th>1777</th>\n",
       "      <td>NaN</td>\n",
       "      <td>NaN</td>\n",
       "    </tr>\n",
       "    <tr>\n",
       "      <th>1778</th>\n",
       "      <td>NaN</td>\n",
       "      <td>NaN</td>\n",
       "    </tr>\n",
       "    <tr>\n",
       "      <th>1779</th>\n",
       "      <td>NaN</td>\n",
       "      <td>NaN</td>\n",
       "    </tr>\n",
       "    <tr>\n",
       "      <th>1780</th>\n",
       "      <td>NaN</td>\n",
       "      <td>NaN</td>\n",
       "    </tr>\n",
       "    <tr>\n",
       "      <th>1781</th>\n",
       "      <td>NaN</td>\n",
       "      <td>NaN</td>\n",
       "    </tr>\n",
       "    <tr>\n",
       "      <th>1782</th>\n",
       "      <td>NaN</td>\n",
       "      <td>NaN</td>\n",
       "    </tr>\n",
       "    <tr>\n",
       "      <th>1783</th>\n",
       "      <td>NaN</td>\n",
       "      <td>NaN</td>\n",
       "    </tr>\n",
       "    <tr>\n",
       "      <th>1784</th>\n",
       "      <td>NaN</td>\n",
       "      <td>NaN</td>\n",
       "    </tr>\n",
       "    <tr>\n",
       "      <th>1785</th>\n",
       "      <td>NaN</td>\n",
       "      <td>NaN</td>\n",
       "    </tr>\n",
       "    <tr>\n",
       "      <th>1786</th>\n",
       "      <td>NaN</td>\n",
       "      <td>NaN</td>\n",
       "    </tr>\n",
       "    <tr>\n",
       "      <th>1787</th>\n",
       "      <td>NaN</td>\n",
       "      <td>NaN</td>\n",
       "    </tr>\n",
       "    <tr>\n",
       "      <th>1788</th>\n",
       "      <td>NaN</td>\n",
       "      <td>NaN</td>\n",
       "    </tr>\n",
       "    <tr>\n",
       "      <th>1789</th>\n",
       "      <td>NaN</td>\n",
       "      <td>NaN</td>\n",
       "    </tr>\n",
       "    <tr>\n",
       "      <th>1790</th>\n",
       "      <td>NaN</td>\n",
       "      <td>NaN</td>\n",
       "    </tr>\n",
       "    <tr>\n",
       "      <th>1791</th>\n",
       "      <td>NaN</td>\n",
       "      <td>NaN</td>\n",
       "    </tr>\n",
       "    <tr>\n",
       "      <th>1792</th>\n",
       "      <td>NaN</td>\n",
       "      <td>NaN</td>\n",
       "    </tr>\n",
       "    <tr>\n",
       "      <th>1793</th>\n",
       "      <td>NaN</td>\n",
       "      <td>NaN</td>\n",
       "    </tr>\n",
       "    <tr>\n",
       "      <th>1794</th>\n",
       "      <td>NaN</td>\n",
       "      <td>NaN</td>\n",
       "    </tr>\n",
       "    <tr>\n",
       "      <th>1795</th>\n",
       "      <td>NaN</td>\n",
       "      <td>NaN</td>\n",
       "    </tr>\n",
       "    <tr>\n",
       "      <th>1796</th>\n",
       "      <td>NaN</td>\n",
       "      <td>NaN</td>\n",
       "    </tr>\n",
       "    <tr>\n",
       "      <th>1797</th>\n",
       "      <td>NaN</td>\n",
       "      <td>NaN</td>\n",
       "    </tr>\n",
       "    <tr>\n",
       "      <th>1798</th>\n",
       "      <td>NaN</td>\n",
       "      <td>NaN</td>\n",
       "    </tr>\n",
       "    <tr>\n",
       "      <th>1799</th>\n",
       "      <td>NaN</td>\n",
       "      <td>NaN</td>\n",
       "    </tr>\n",
       "  </tbody>\n",
       "</table>\n",
       "<p>1800 rows × 2 columns</p>\n",
       "</div>"
      ],
      "text/plain": [
       "      time  peak\n",
       "0      NaN   NaN\n",
       "1      NaN   NaN\n",
       "2      NaN   NaN\n",
       "3      NaN   NaN\n",
       "4      NaN   NaN\n",
       "5      NaN   NaN\n",
       "6      NaN   NaN\n",
       "7      NaN   NaN\n",
       "8      NaN   NaN\n",
       "9      NaN   NaN\n",
       "10     NaN   NaN\n",
       "11     NaN   NaN\n",
       "12     NaN   NaN\n",
       "13     NaN   NaN\n",
       "14     NaN   NaN\n",
       "15     NaN   NaN\n",
       "16     NaN   NaN\n",
       "17     NaN   NaN\n",
       "18     NaN   NaN\n",
       "19     NaN   NaN\n",
       "20     NaN   NaN\n",
       "21     NaN   NaN\n",
       "22     NaN   NaN\n",
       "23     NaN   NaN\n",
       "24     NaN   NaN\n",
       "25     NaN   NaN\n",
       "26     NaN   NaN\n",
       "27     NaN   NaN\n",
       "28     NaN   NaN\n",
       "29     NaN   NaN\n",
       "...    ...   ...\n",
       "1770   NaN   NaN\n",
       "1771   NaN   NaN\n",
       "1772   NaN   NaN\n",
       "1773   NaN   NaN\n",
       "1774   NaN   NaN\n",
       "1775   NaN   NaN\n",
       "1776   NaN   NaN\n",
       "1777   NaN   NaN\n",
       "1778   NaN   NaN\n",
       "1779   NaN   NaN\n",
       "1780   NaN   NaN\n",
       "1781   NaN   NaN\n",
       "1782   NaN   NaN\n",
       "1783   NaN   NaN\n",
       "1784   NaN   NaN\n",
       "1785   NaN   NaN\n",
       "1786   NaN   NaN\n",
       "1787   NaN   NaN\n",
       "1788   NaN   NaN\n",
       "1789   NaN   NaN\n",
       "1790   NaN   NaN\n",
       "1791   NaN   NaN\n",
       "1792   NaN   NaN\n",
       "1793   NaN   NaN\n",
       "1794   NaN   NaN\n",
       "1795   NaN   NaN\n",
       "1796   NaN   NaN\n",
       "1797   NaN   NaN\n",
       "1798   NaN   NaN\n",
       "1799   NaN   NaN\n",
       "\n",
       "[1800 rows x 2 columns]"
      ]
     },
     "execution_count": 40,
     "metadata": {},
     "output_type": "execute_result"
    }
   ],
   "source": [
    "tdf"
   ]
  },
  {
   "cell_type": "code",
   "execution_count": 41,
   "metadata": {},
   "outputs": [
    {
     "data": {
      "image/png": "[encoded data removed]",
      "text/plain": [
       "<Figure size 432x288 with 1 Axes>"
      ]
     },
     "metadata": {
      "needs_background": "light"
     },
     "output_type": "display_data"
    }
   ],
   "source": [
    "plt.plot(tdf.time,tdf.peak)\n",
    "plt.show()"
   ]
  },
  {
   "cell_type": "code",
   "execution_count": 51,
   "metadata": {},
   "outputs": [
    {
     "data": {
      "text/plain": [
       "12.12835312"
      ]
     },
     "execution_count": 51,
     "metadata": {},
     "output_type": "execute_result"
    }
   ],
   "source": [
    "#fine max peak\n",
    "tdf.peak.max()"
   ]
  },
  {
   "cell_type": "code",
   "execution_count": 50,
   "metadata": {},
   "outputs": [
    {
     "data": {
      "text/plain": [
       "3.806666667"
      ]
     },
     "execution_count": 50,
     "metadata": {},
     "output_type": "execute_result"
    }
   ],
   "source": [
    "#find max peak's time\n",
    "tdf.time[tdf.peak==tdf.peak.max()].max()"
   ]
  },
  {
   "cell_type": "code",
   "execution_count": 77,
   "metadata": {},
   "outputs": [],
   "source": [
    "def find_peak_time(df:\"pandas Dataframe\"):\n",
    "    '''\n",
    "    input : df\n",
    "    output: list [max_peak_time,max_peak_height] as feature\n",
    "    '''\n",
    "    max_peak_height=df.peak.max()\n",
    "    max_peak_time = df.time[df.peak==max_peak_height].max()\n",
    "    return [max_peak_time,max_peak_height]"
   ]
  },
  {
   "cell_type": "code",
   "execution_count": 78,
   "metadata": {},
   "outputs": [
    {
     "data": {
      "text/plain": [
       "[2.56, 0.05960464477539096]"
      ]
     },
     "execution_count": 78,
     "metadata": {},
     "output_type": "execute_result"
    }
   ],
   "source": [
    "#test function find_peak_time\n",
    "aa= find_peak_time(tdf)\n",
    "aa"
   ]
  },
  {
   "cell_type": "code",
   "execution_count": 79,
   "metadata": {},
   "outputs": [
    {
     "name": "stdout",
     "output_type": "stream",
     "text": [
      "8193\n"
     ]
    }
   ],
   "source": [
    "# get list of feature vectorize \n",
    "feature_list = []\n",
    "for name,df in ss:\n",
    "    feature_list.append((name,find_peak_time(df)))\n",
    "\n",
    "print(len(feature_list))"
   ]
  },
  {
   "cell_type": "code",
   "execution_count": 117,
   "metadata": {},
   "outputs": [],
   "source": [
    "x = []\n",
    "y = []\n",
    "for name,fea in feature_list:\n",
    "    x.append(fea[0])\n",
    "    y.append(fea[1])\n",
    "#x = np.array(x)\n",
    "#y = np.array(y)\n"
   ]
  },
  {
   "cell_type": "code",
   "execution_count": 120,
   "metadata": {},
   "outputs": [
    {
     "data": {
      "text/plain": [
       "269.3357467651365"
      ]
     },
     "execution_count": 120,
     "metadata": {},
     "output_type": "execute_result"
    }
   ],
   "source": [
    "max(x)\n",
    "max(y)"
   ]
  },
  {
   "cell_type": "code",
   "execution_count": 143,
   "metadata": {},
   "outputs": [
    {
     "data": {
      "image/png": "[encoded data removed]",
      "text/plain": [
       "<Figure size 576x576 with 3 Axes>"
      ]
     },
     "metadata": {
      "needs_background": "light"
     },
     "output_type": "display_data"
    }
   ],
   "source": [
    "# definitions for the axes\n",
    "left, width = 0.1, 0.65\n",
    "bottom, height = 0.1, 0.65\n",
    "spacing = 0.005\n",
    "\n",
    "\n",
    "rect_scatter = [left, bottom, width, height]\n",
    "rect_histx = [left, bottom + height + spacing, width, 0.2]\n",
    "rect_histy = [left + width + spacing, bottom, 0.2, height]\n",
    "\n",
    "# start with a rectangular Figure\n",
    "plt.figure(figsize=(8, 8))\n",
    "\n",
    "ax_scatter = plt.axes(rect_scatter)\n",
    "ax_scatter.tick_params(direction='in', top=True, right=True)\n",
    "ax_histx = plt.axes(rect_histx)\n",
    "ax_histx.tick_params(direction='in', labelbottom=False)\n",
    "ax_histy = plt.axes(rect_histy)\n",
    "ax_histy.tick_params(direction='in', labelleft=False)\n",
    "\n",
    "# the scatter plot:\n",
    "ax_scatter.scatter(x, y)\n",
    "\n",
    "# now determine nice limits by hand:\n",
    "binwidth =1.25 # 柱形图的柱子的跨度\n",
    "limx= ((max([max(x),abs(min(x))])) * binwidth) /2\n",
    "limy= ((max([max(y),abs(min(y))])) * binwidth)/2\n",
    "ax_scatter.set_xlim((2.2, 5.2))\n",
    "ax_scatter.set_ylim((-10, limy))\n",
    "#binwidth = 0.25\n",
    "#\n",
    "#limx = (np.nanmax(np.abs(x))-np.nanmin(np.abs(x)))*binwidth/2\n",
    "#x_median = np.nanmedian(x)\n",
    "#limy = (np.nanmax(np.abs(y))-np.nanmin(np.abs(y)))*binwidth/2\n",
    "#y_median = np.nanmedian(y)\n",
    "\n",
    "binsx = np.arange(2.2, 5.5 ,0.02)\n",
    "binsy = np.arange(-10,limy,5)\n",
    "ax_histx.hist(x, bins=binsx)\n",
    "ax_histy.hist(y, bins=binsy, orientation='horizontal')\n",
    "\n",
    "ax_histx.set_xlim(ax_scatter.get_xlim())\n",
    "ax_histy.set_ylim(ax_scatter.get_ylim())\n",
    "\n",
    "plt.show()"
   ]
  },
  {
   "cell_type": "code",
   "execution_count": null,
   "metadata": {},
   "outputs": [],
   "source": [
    "\n"
   ]
  }
 ],
 "metadata": {
  "kernelspec": {
   "display_name": "Python 3",
   "language": "python",
   "name": "python3"
  },
  "language_info": {
   "codemirror_mode": {
    "name": "ipython",
    "version": 3
   },
   "file_extension": ".py",
   "mimetype": "text/x-python",
   "name": "python",
   "nbconvert_exporter": "python",
   "pygments_lexer": "ipython3",
   "version": "3.7.2"
  }
 },
 "nbformat": 4,
 "nbformat_minor": 2
}
