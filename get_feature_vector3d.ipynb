{
 "cells": [
  {
   "cell_type": "code",
   "execution_count": 1,
   "metadata": {},
   "outputs": [],
   "source": [
    "import matplotlib.pyplot as plt\n",
    "import matplotlib\n",
    "import numpy as np\n",
    "import nltk\n",
    "import pandas as pd\n",
    "import TraverseDir.TraverseDir as td\n",
    "import pandas_toolkit.mytoolkit as tk\n",
    "from scipy.signal import find_peaks\n",
    "import scipy.signal\n",
    "import pickle"
   ]
  },
  {
   "cell_type": "code",
   "execution_count": 3,
   "metadata": {},
   "outputs": [],
   "source": [
    "rootDir = '/Users/wangmu/Documents/Science/mG1/数据/sec'"
   ]
  },
  {
   "cell_type": "code",
   "execution_count": 4,
   "metadata": {},
   "outputs": [],
   "source": [
    "file_path_list = td.show_all_path(rootDir)\n",
    "file_name_list = td.get_filename(file_path_list)"
   ]
  },
  {
   "cell_type": "code",
   "execution_count": 5,
   "metadata": {},
   "outputs": [
    {
     "name": "stdout",
     "output_type": "stream",
     "text": [
      "length is: 8193\n",
      "type is: <class 'list'>\n"
     ]
    }
   ],
   "source": [
    "#overview alldata in rootDir\n",
    "print('length is: '+f'{len(file_name_list)}')\n",
    "print('type is: '+f\"{type(file_name_list)}\")"
   ]
  },
  {
   "cell_type": "code",
   "execution_count": 6,
   "metadata": {},
   "outputs": [],
   "source": [
    "# make data list[('name',pandas.df),...]\n",
    "data_list = []\n",
    "for finame,fipath in zip(file_name_list,file_path_list):\n",
    "    data_pair= (finame,tk.onestep_norm_peak2zero(fipath),tk.onestep_norm_peak2max(fipath))\n",
    "    data_list.append(data_pair)\n",
    "\n",
    "ss = data_list\n",
    "#SS :[(filename:str,peak2zero:pandas.df,peak2max:pandas.df)]"
   ]
  },
  {
   "cell_type": "code",
   "execution_count": 7,
   "metadata": {},
   "outputs": [
    {
     "name": "stdout",
     "output_type": "stream",
     "text": [
      "length is: 8193\n",
      "type is: <class 'list'>\n"
     ]
    }
   ],
   "source": [
    "#overview alldata in ss\n",
    "\n",
    "print('length is: '+f'{len(ss)}')\n",
    "print('type is: '+f\"{type(ss)}\")"
   ]
  },
  {
   "cell_type": "code",
   "execution_count": 8,
   "metadata": {},
   "outputs": [
    {
     "data": {
      "image/png": "[encoded data removed]",
      "text/plain": [
       "<Figure size 432x288 with 2 Axes>"
      ]
     },
     "metadata": {
      "needs_background": "light"
     },
     "output_type": "display_data"
    }
   ],
   "source": [
    "# single seq find peak width\n",
    "\n",
    "tdata = ss[200]\n",
    "fig,axs=plt.subplots(1,2)\n",
    "\n",
    "axs[0].plot(tdata[1].time,tdata[1].peak)\n",
    "axs[1].plot(tdata[2].time,tdata[2].peak)\n",
    "plt.show()"
   ]
  },
  {
   "cell_type": "code",
   "execution_count": 9,
   "metadata": {},
   "outputs": [
    {
     "data": {
      "text/plain": [
       "[6.0, 4.0]"
      ]
     },
     "execution_count": 9,
     "metadata": {},
     "output_type": "execute_result"
    }
   ],
   "source": [
    "# show figsize\n",
    "matplotlib.rcParams[\"figure.figsize\"]\n",
    "# change size"
   ]
  },
  {
   "cell_type": "code",
   "execution_count": 23,
   "metadata": {},
   "outputs": [
    {
     "name": "stderr",
     "output_type": "stream",
     "text": [
      "/Users/wangmu/anaconda3/lib/python3.7/site-packages/matplotlib/__init__.py:886: MatplotlibDeprecationWarning: \n",
      "examples.directory is deprecated; in the future, examples will be found relative to the 'datapath' directory.\n",
      "  \"found relative to the 'datapath' directory.\".format(key))\n"
     ]
    },
    {
     "data": {
      "text/plain": [
       "RcParams({'_internal.classic_mode': False,\n",
       "          'agg.path.chunksize': 0,\n",
       "          'animation.avconv_args': [],\n",
       "          'animation.avconv_path': 'avconv',\n",
       "          'animation.bitrate': -1,\n",
       "          'animation.codec': 'h264',\n",
       "          'animation.convert_args': [],\n",
       "          'animation.convert_path': 'convert',\n",
       "          'animation.embed_limit': 20.0,\n",
       "          'animation.ffmpeg_args': [],\n",
       "          'animation.ffmpeg_path': 'ffmpeg',\n",
       "          'animation.frame_format': 'png',\n",
       "          'animation.html': 'none',\n",
       "          'animation.html_args': [],\n",
       "          'animation.writer': 'ffmpeg',\n",
       "          'axes.autolimit_mode': 'data',\n",
       "          'axes.axisbelow': 'line',\n",
       "          'axes.edgecolor': 'black',\n",
       "          'axes.facecolor': 'white',\n",
       "          'axes.formatter.limits': [-7, 7],\n",
       "          'axes.formatter.min_exponent': 0,\n",
       "          'axes.formatter.offset_threshold': 4,\n",
       "          'axes.formatter.use_locale': False,\n",
       "          'axes.formatter.use_mathtext': False,\n",
       "          'axes.formatter.useoffset': True,\n",
       "          'axes.grid': False,\n",
       "          'axes.grid.axis': 'both',\n",
       "          'axes.grid.which': 'major',\n",
       "          'axes.labelcolor': 'black',\n",
       "          'axes.labelpad': 4.0,\n",
       "          'axes.labelsize': 'medium',\n",
       "          'axes.labelweight': 'normal',\n",
       "          'axes.linewidth': 0.8,\n",
       "          'axes.prop_cycle': cycler('color', ['#1f77b4', '#ff7f0e', '#2ca02c', '#d62728', '#9467bd', '#8c564b', '#e377c2', '#7f7f7f', '#bcbd22', '#17becf']),\n",
       "          'axes.spines.bottom': True,\n",
       "          'axes.spines.left': True,\n",
       "          'axes.spines.right': True,\n",
       "          'axes.spines.top': True,\n",
       "          'axes.titlepad': 6.0,\n",
       "          'axes.titlesize': 'large',\n",
       "          'axes.titleweight': 'normal',\n",
       "          'axes.unicode_minus': True,\n",
       "          'axes.xmargin': 0.05,\n",
       "          'axes.ymargin': 0.05,\n",
       "          'axes3d.grid': True,\n",
       "          'backend': 'module://ipykernel.pylab.backend_inline',\n",
       "          'backend.qt4': None,\n",
       "          'backend.qt5': None,\n",
       "          'backend_fallback': True,\n",
       "          'boxplot.bootstrap': None,\n",
       "          'boxplot.boxprops.color': 'black',\n",
       "          'boxplot.boxprops.linestyle': '-',\n",
       "          'boxplot.boxprops.linewidth': 1.0,\n",
       "          'boxplot.capprops.color': 'black',\n",
       "          'boxplot.capprops.linestyle': '-',\n",
       "          'boxplot.capprops.linewidth': 1.0,\n",
       "          'boxplot.flierprops.color': 'black',\n",
       "          'boxplot.flierprops.linestyle': 'none',\n",
       "          'boxplot.flierprops.linewidth': 1.0,\n",
       "          'boxplot.flierprops.marker': 'o',\n",
       "          'boxplot.flierprops.markeredgecolor': 'black',\n",
       "          'boxplot.flierprops.markerfacecolor': 'none',\n",
       "          'boxplot.flierprops.markersize': 6.0,\n",
       "          'boxplot.meanline': False,\n",
       "          'boxplot.meanprops.color': 'C2',\n",
       "          'boxplot.meanprops.linestyle': '--',\n",
       "          'boxplot.meanprops.linewidth': 1.0,\n",
       "          'boxplot.meanprops.marker': '^',\n",
       "          'boxplot.meanprops.markeredgecolor': 'C2',\n",
       "          'boxplot.meanprops.markerfacecolor': 'C2',\n",
       "          'boxplot.meanprops.markersize': 6.0,\n",
       "          'boxplot.medianprops.color': 'C1',\n",
       "          'boxplot.medianprops.linestyle': '-',\n",
       "          'boxplot.medianprops.linewidth': 1.0,\n",
       "          'boxplot.notch': False,\n",
       "          'boxplot.patchartist': False,\n",
       "          'boxplot.showbox': True,\n",
       "          'boxplot.showcaps': True,\n",
       "          'boxplot.showfliers': True,\n",
       "          'boxplot.showmeans': False,\n",
       "          'boxplot.vertical': True,\n",
       "          'boxplot.whiskerprops.color': 'black',\n",
       "          'boxplot.whiskerprops.linestyle': '-',\n",
       "          'boxplot.whiskerprops.linewidth': 1.0,\n",
       "          'boxplot.whiskers': 1.5,\n",
       "          'contour.corner_mask': True,\n",
       "          'contour.negative_linestyle': 'dashed',\n",
       "          'datapath': '/Users/wangmu/anaconda3/lib/python3.7/site-packages/matplotlib/mpl-data',\n",
       "          'date.autoformatter.day': '%Y-%m-%d',\n",
       "          'date.autoformatter.hour': '%m-%d %H',\n",
       "          'date.autoformatter.microsecond': '%M:%S.%f',\n",
       "          'date.autoformatter.minute': '%d %H:%M',\n",
       "          'date.autoformatter.month': '%Y-%m',\n",
       "          'date.autoformatter.second': '%H:%M:%S',\n",
       "          'date.autoformatter.year': '%Y',\n",
       "          'docstring.hardcopy': False,\n",
       "          'errorbar.capsize': 0.0,\n",
       "          'examples.directory': '',\n",
       "          'figure.autolayout': False,\n",
       "          'figure.constrained_layout.h_pad': 0.04167,\n",
       "          'figure.constrained_layout.hspace': 0.02,\n",
       "          'figure.constrained_layout.use': False,\n",
       "          'figure.constrained_layout.w_pad': 0.04167,\n",
       "          'figure.constrained_layout.wspace': 0.02,\n",
       "          'figure.dpi': 72.0,\n",
       "          'figure.edgecolor': (1, 1, 1, 0),\n",
       "          'figure.facecolor': (1, 1, 1, 0),\n",
       "          'figure.figsize': [6.0, 4.0],\n",
       "          'figure.frameon': True,\n",
       "          'figure.max_open_warning': 20,\n",
       "          'figure.subplot.bottom': 0.125,\n",
       "          'figure.subplot.hspace': 0.2,\n",
       "          'figure.subplot.left': 0.125,\n",
       "          'figure.subplot.right': 0.9,\n",
       "          'figure.subplot.top': 0.88,\n",
       "          'figure.subplot.wspace': 0.2,\n",
       "          'figure.titlesize': 'large',\n",
       "          'figure.titleweight': 'normal',\n",
       "          'font.cursive': ['Apple Chancery',\n",
       "                           'Textile',\n",
       "                           'Zapf Chancery',\n",
       "                           'Sand',\n",
       "                           'Script MT',\n",
       "                           'Felipa',\n",
       "                           'cursive'],\n",
       "          'font.family': ['sans-serif'],\n",
       "          'font.fantasy': ['Comic Sans MS',\n",
       "                           'Chicago',\n",
       "                           'Charcoal',\n",
       "                           'Impact',\n",
       "                           'Western',\n",
       "                           'Humor Sans',\n",
       "                           'xkcd',\n",
       "                           'fantasy'],\n",
       "          'font.monospace': ['DejaVu Sans Mono',\n",
       "                             'Bitstream Vera Sans Mono',\n",
       "                             'Computer Modern Typewriter',\n",
       "                             'Andale Mono',\n",
       "                             'Nimbus Mono L',\n",
       "                             'Courier New',\n",
       "                             'Courier',\n",
       "                             'Fixed',\n",
       "                             'Terminal',\n",
       "                             'monospace'],\n",
       "          'font.sans-serif': ['DejaVu Sans',\n",
       "                              'Bitstream Vera Sans',\n",
       "                              'Computer Modern Sans Serif',\n",
       "                              'Lucida Grande',\n",
       "                              'Verdana',\n",
       "                              'Geneva',\n",
       "                              'Lucid',\n",
       "                              'Arial',\n",
       "                              'Helvetica',\n",
       "                              'Avant Garde',\n",
       "                              'sans-serif'],\n",
       "          'font.serif': ['DejaVu Serif',\n",
       "                         'Bitstream Vera Serif',\n",
       "                         'Computer Modern Roman',\n",
       "                         'New Century Schoolbook',\n",
       "                         'Century Schoolbook L',\n",
       "                         'Utopia',\n",
       "                         'ITC Bookman',\n",
       "                         'Bookman',\n",
       "                         'Nimbus Roman No9 L',\n",
       "                         'Times New Roman',\n",
       "                         'Times',\n",
       "                         'Palatino',\n",
       "                         'Charter',\n",
       "                         'serif'],\n",
       "          'font.size': 10.0,\n",
       "          'font.stretch': 'normal',\n",
       "          'font.style': 'normal',\n",
       "          'font.variant': 'normal',\n",
       "          'font.weight': 'normal',\n",
       "          'grid.alpha': 1.0,\n",
       "          'grid.color': '#b0b0b0',\n",
       "          'grid.linestyle': '-',\n",
       "          'grid.linewidth': 0.8,\n",
       "          'hatch.color': 'black',\n",
       "          'hatch.linewidth': 1.0,\n",
       "          'hist.bins': 10,\n",
       "          'image.aspect': 'equal',\n",
       "          'image.cmap': 'viridis',\n",
       "          'image.composite_image': True,\n",
       "          'image.interpolation': 'nearest',\n",
       "          'image.lut': 256,\n",
       "          'image.origin': 'upper',\n",
       "          'image.resample': True,\n",
       "          'interactive': True,\n",
       "          'keymap.all_axes': ['a'],\n",
       "          'keymap.back': ['left', 'c', 'backspace'],\n",
       "          'keymap.copy': ['ctrl+c', 'cmd+c'],\n",
       "          'keymap.forward': ['right', 'v'],\n",
       "          'keymap.fullscreen': ['f', 'ctrl+f'],\n",
       "          'keymap.grid': ['g'],\n",
       "          'keymap.grid_minor': ['G'],\n",
       "          'keymap.help': ['f1'],\n",
       "          'keymap.home': ['h', 'r', 'home'],\n",
       "          'keymap.pan': ['p'],\n",
       "          'keymap.quit': ['ctrl+w', 'cmd+w', 'q'],\n",
       "          'keymap.quit_all': ['W', 'cmd+W', 'Q'],\n",
       "          'keymap.save': ['s', 'ctrl+s'],\n",
       "          'keymap.xscale': ['k', 'L'],\n",
       "          'keymap.yscale': ['l'],\n",
       "          'keymap.zoom': ['o'],\n",
       "          'legend.borderaxespad': 0.5,\n",
       "          'legend.borderpad': 0.4,\n",
       "          'legend.columnspacing': 2.0,\n",
       "          'legend.edgecolor': '0.8',\n",
       "          'legend.facecolor': 'inherit',\n",
       "          'legend.fancybox': True,\n",
       "          'legend.fontsize': 'medium',\n",
       "          'legend.framealpha': 0.8,\n",
       "          'legend.frameon': True,\n",
       "          'legend.handleheight': 0.7,\n",
       "          'legend.handlelength': 2.0,\n",
       "          'legend.handletextpad': 0.8,\n",
       "          'legend.labelspacing': 0.5,\n",
       "          'legend.loc': 'best',\n",
       "          'legend.markerscale': 1.0,\n",
       "          'legend.numpoints': 1,\n",
       "          'legend.scatterpoints': 1,\n",
       "          'legend.shadow': False,\n",
       "          'legend.title_fontsize': None,\n",
       "          'lines.antialiased': True,\n",
       "          'lines.color': 'C0',\n",
       "          'lines.dash_capstyle': 'butt',\n",
       "          'lines.dash_joinstyle': 'round',\n",
       "          'lines.dashdot_pattern': [6.4, 1.6, 1.0, 1.6],\n",
       "          'lines.dashed_pattern': [3.7, 1.6],\n",
       "          'lines.dotted_pattern': [1.0, 1.65],\n",
       "          'lines.linestyle': '-',\n",
       "          'lines.linewidth': 1.5,\n",
       "          'lines.marker': 'None',\n",
       "          'lines.markeredgecolor': 'auto',\n",
       "          'lines.markeredgewidth': 1.0,\n",
       "          'lines.markerfacecolor': 'auto',\n",
       "          'lines.markersize': 6.0,\n",
       "          'lines.scale_dashes': True,\n",
       "          'lines.solid_capstyle': 'projecting',\n",
       "          'lines.solid_joinstyle': 'round',\n",
       "          'markers.fillstyle': 'full',\n",
       "          'mathtext.bf': 'sans:bold',\n",
       "          'mathtext.cal': 'cursive',\n",
       "          'mathtext.default': 'it',\n",
       "          'mathtext.fallback_to_cm': True,\n",
       "          'mathtext.fontset': 'dejavusans',\n",
       "          'mathtext.it': 'sans:italic',\n",
       "          'mathtext.rm': 'sans',\n",
       "          'mathtext.sf': 'sans',\n",
       "          'mathtext.tt': 'monospace',\n",
       "          'patch.antialiased': True,\n",
       "          'patch.edgecolor': 'black',\n",
       "          'patch.facecolor': 'C0',\n",
       "          'patch.force_edgecolor': False,\n",
       "          'patch.linewidth': 1.0,\n",
       "          'path.effects': [],\n",
       "          'path.simplify': True,\n",
       "          'path.simplify_threshold': 0.1111111111111111,\n",
       "          'path.sketch': None,\n",
       "          'path.snap': True,\n",
       "          'pdf.compression': 6,\n",
       "          'pdf.fonttype': 3,\n",
       "          'pdf.inheritcolor': False,\n",
       "          'pdf.use14corefonts': False,\n",
       "          'pgf.preamble': [],\n",
       "          'pgf.rcfonts': True,\n",
       "          'pgf.texsystem': 'xelatex',\n",
       "          'polaraxes.grid': True,\n",
       "          'ps.distiller.res': 6000,\n",
       "          'ps.fonttype': 3,\n",
       "          'ps.papersize': 'letter',\n",
       "          'ps.useafm': False,\n",
       "          'ps.usedistiller': False,\n",
       "          'savefig.bbox': None,\n",
       "          'savefig.directory': '~',\n",
       "          'savefig.dpi': 'figure',\n",
       "          'savefig.edgecolor': 'white',\n",
       "          'savefig.facecolor': 'white',\n",
       "          'savefig.format': 'png',\n",
       "          'savefig.frameon': True,\n",
       "          'savefig.jpeg_quality': 95,\n",
       "          'savefig.orientation': 'portrait',\n",
       "          'savefig.pad_inches': 0.1,\n",
       "          'savefig.transparent': False,\n",
       "          'scatter.marker': 'o',\n",
       "          'svg.fonttype': 'path',\n",
       "          'svg.hashsalt': None,\n",
       "          'svg.image_inline': True,\n",
       "          'text.antialiased': True,\n",
       "          'text.color': 'black',\n",
       "          'text.hinting': 'auto',\n",
       "          'text.hinting_factor': 8,\n",
       "          'text.latex.preamble': [],\n",
       "          'text.latex.preview': False,\n",
       "          'text.latex.unicode': True,\n",
       "          'text.usetex': False,\n",
       "          'timezone': 'UTC',\n",
       "          'tk.window_focus': False,\n",
       "          'toolbar': 'toolbar2',\n",
       "          'verbose.fileo': 'sys.stdout',\n",
       "          'verbose.level': 'silent',\n",
       "          'webagg.address': '127.0.0.1',\n",
       "          'webagg.open_in_browser': True,\n",
       "          'webagg.port': 8988,\n",
       "          'webagg.port_retries': 50,\n",
       "          'xtick.alignment': 'center',\n",
       "          'xtick.bottom': True,\n",
       "          'xtick.color': 'black',\n",
       "          'xtick.direction': 'out',\n",
       "          'xtick.labelbottom': True,\n",
       "          'xtick.labelsize': 'medium',\n",
       "          'xtick.labeltop': False,\n",
       "          'xtick.major.bottom': True,\n",
       "          'xtick.major.pad': 3.5,\n",
       "          'xtick.major.size': 3.5,\n",
       "          'xtick.major.top': True,\n",
       "          'xtick.major.width': 0.8,\n",
       "          'xtick.minor.bottom': True,\n",
       "          'xtick.minor.pad': 3.4,\n",
       "          'xtick.minor.size': 2.0,\n",
       "          'xtick.minor.top': True,\n",
       "          'xtick.minor.visible': False,\n",
       "          'xtick.minor.width': 0.6,\n",
       "          'xtick.top': False,\n",
       "          'ytick.alignment': 'center_baseline',\n",
       "          'ytick.color': 'black',\n",
       "          'ytick.direction': 'out',\n",
       "          'ytick.labelleft': True,\n",
       "          'ytick.labelright': False,\n",
       "          'ytick.labelsize': 'medium',\n",
       "          'ytick.left': True,\n",
       "          'ytick.major.left': True,\n",
       "          'ytick.major.pad': 3.5,\n",
       "          'ytick.major.right': True,\n",
       "          'ytick.major.size': 3.5,\n",
       "          'ytick.major.width': 0.8,\n",
       "          'ytick.minor.left': True,\n",
       "          'ytick.minor.pad': 3.4,\n",
       "          'ytick.minor.right': True,\n",
       "          'ytick.minor.size': 2.0,\n",
       "          'ytick.minor.visible': False,\n",
       "          'ytick.minor.width': 0.6,\n",
       "          'ytick.right': False})"
      ]
     },
     "execution_count": 23,
     "metadata": {},
     "output_type": "execute_result"
    }
   ],
   "source": [
    "# a dict recorded all params\n",
    "matplotlib.rcParams"
   ]
  },
  {
   "cell_type": "code",
   "execution_count": 24,
   "metadata": {},
   "outputs": [
    {
     "data": {
      "image/png": "[encoded data removed]",
      "text/plain": [
       "<Figure size 864x360 with 2 Axes>"
      ]
     },
     "metadata": {
      "needs_background": "light"
     },
     "output_type": "display_data"
    }
   ],
   "source": [
    "# change fig size\n",
    "\n",
    "tdata = ss[200]\n",
    "fig,axs=plt.subplots(1,2)\n",
    "\n",
    "axs[0].plot(tdata[1].time,tdata[1].peak)\n",
    "axs[1].plot(tdata[2].time,tdata[2].peak)\n",
    "matplotlib.rcParams[\"figure.figsize\"] = [12.0,5.0]\n",
    "plt.show()"
   ]
  },
  {
   "cell_type": "code",
   "execution_count": 40,
   "metadata": {},
   "outputs": [],
   "source": []
  },
  {
   "cell_type": "code",
   "execution_count": 26,
   "metadata": {},
   "outputs": [],
   "source": [
    "# find peaks:input a Series a return peak index\n",
    "peaks,param = find_peaks(tdata[1].peak)"
   ]
  },
  {
   "cell_type": "code",
   "execution_count": 27,
   "metadata": {},
   "outputs": [
    {
     "data": {
      "text/plain": [
       "array([315, 332, 341, 349, 354, 366, 376, 391, 422, 441, 450, 513, 570])"
      ]
     },
     "execution_count": 27,
     "metadata": {},
     "output_type": "execute_result"
    }
   ],
   "source": [
    "peaks"
   ]
  },
  {
   "cell_type": "code",
   "execution_count": 12,
   "metadata": {},
   "outputs": [
    {
     "data": {
      "image/png": "[encoded data removed]",
      "text/plain": [
       "<Figure size 864x360 with 1 Axes>"
      ]
     },
     "metadata": {
      "needs_background": "light"
     },
     "output_type": "display_data"
    }
   ],
   "source": [
    "#show peak position as 'x'\n",
    "plt.plot(tdata[1].time,tdata[1].peak)\n",
    "plt.plot(tdata[1].time[peaks],tdata[1].peak[peaks],\"x\")\n",
    "plt.show()"
   ]
  },
  {
   "cell_type": "code",
   "execution_count": 48,
   "metadata": {},
   "outputs": [],
   "source": [
    "# 找出峰高最高的两个数值\n",
    "# 找出序列中最大的n个数值\n",
    "# numpy.argsort(a, axis=-1, kind='quicksort', order=None)[source]¶\n",
    "# Returns the indices that would sort an array.\n",
    "# 返回一个index的array。index的顺序即为index对应value的由小到大的排列顺序\n",
    "\n",
    "# n = 1\n",
    "# print (x[np.argsort(x)[-n:]])"
   ]
  },
  {
   "cell_type": "code",
   "execution_count": 14,
   "metadata": {},
   "outputs": [
    {
     "data": {
      "text/plain": [
       "315     0.082970\n",
       "332     0.072002\n",
       "341     0.076771\n",
       "349     0.077724\n",
       "354     0.074387\n",
       "366     0.077248\n",
       "376     0.066280\n",
       "391     0.042439\n",
       "422     0.013351\n",
       "441     0.010014\n",
       "450     0.012875\n",
       "513     7.370949\n",
       "570    12.128353\n",
       "Name: peak, dtype: float64"
      ]
     },
     "execution_count": 14,
     "metadata": {},
     "output_type": "execute_result"
    }
   ],
   "source": [
    "# 找出峰高最高的两个数值：找出df peak\n",
    "sele_peak=tdata[1].peak[peaks]\n",
    "sele_peak"
   ]
  },
  {
   "cell_type": "code",
   "execution_count": 15,
   "metadata": {},
   "outputs": [
    {
     "data": {
      "text/plain": [
       "array([12.12835312,  7.37094879])"
      ]
     },
     "execution_count": 15,
     "metadata": {},
     "output_type": "execute_result"
    }
   ],
   "source": [
    "# 找出峰高最高的两个数值：最大2个 peak数值,max顺序为数值降序\n",
    "\n",
    "n=2\n",
    "max2=sele_peak.values[np.argsort(sele_peak)[-n:][::-1]]\n",
    "max2 #array"
   ]
  },
  {
   "cell_type": "code",
   "execution_count": 16,
   "metadata": {},
   "outputs": [
    {
     "data": {
      "text/plain": [
       "Int64Index([570], dtype='int64')"
      ]
     },
     "execution_count": 16,
     "metadata": {},
     "output_type": "execute_result"
    }
   ],
   "source": [
    "# useless\n",
    "sele_peak.index[sele_peak==12.12835312]"
   ]
  },
  {
   "cell_type": "code",
   "execution_count": 17,
   "metadata": {},
   "outputs": [
    {
     "data": {
      "text/plain": [
       "570    12.128353\n",
       "513     7.370949\n",
       "Name: peak, dtype: float64"
      ]
     },
     "execution_count": 17,
     "metadata": {},
     "output_type": "execute_result"
    }
   ],
   "source": [
    "#useless\n",
    "ind =sele_peak[[570,513]]\n",
    "ind\n",
    "#sele_peak[ind]\n"
   ]
  },
  {
   "cell_type": "code",
   "execution_count": 18,
   "metadata": {},
   "outputs": [
    {
     "name": "stdout",
     "output_type": "stream",
     "text": [
      "[570, 513]\n"
     ]
    }
   ],
   "source": [
    "# make index list\n",
    "index_list=[]\n",
    "for i in max2:\n",
    "    index_list.append(sele_peak.index[sele_peak==i][0])\n",
    "print(index_list)\n"
   ]
  },
  {
   "cell_type": "code",
   "execution_count": 19,
   "metadata": {},
   "outputs": [
    {
     "name": "stdout",
     "output_type": "stream",
     "text": [
      "570    12.128353\n",
      "513     7.370949\n",
      "Name: peak, dtype: float64\n",
      "<class 'pandas.core.series.Series'>\n"
     ]
    }
   ],
   "source": [
    "# show max2 sele Series\n",
    "print(sele_peak[index_list])\n",
    "print(type(sele_peak[index_list]))\n"
   ]
  },
  {
   "cell_type": "code",
   "execution_count": 126,
   "metadata": {},
   "outputs": [],
   "source": [
    "# 以上得到了：最高的两个峰及对应index，可以进一步得到对应的出峰时间，接下来要得到峰宽"
   ]
  },
  {
   "cell_type": "code",
   "execution_count": 127,
   "metadata": {},
   "outputs": [],
   "source": [
    "# 之后可以得到不止3d的特征向量"
   ]
  },
  {
   "cell_type": "code",
   "execution_count": 119,
   "metadata": {},
   "outputs": [],
   "source": []
  },
  {
   "cell_type": "code",
   "execution_count": 63,
   "metadata": {},
   "outputs": [
    {
     "data": {
      "image/png": "[encoded data removed]",
      "text/plain": [
       "<Figure size 864x360 with 1 Axes>"
      ]
     },
     "metadata": {
      "needs_background": "light"
     },
     "output_type": "display_data"
    }
   ],
   "source": [
    "#show peak position as 'x'\n",
    "x = tdata[1]\n",
    "peaks,param = find_peaks(x.peak)\n",
    "# get prominences\n",
    "prominences = scipy.signal.peak_prominences(tdata[1].peak,peaks)[0] # prominences has 3 arraies,use first \n",
    "# get half width,full width\n",
    "results_half = peak_widths(x, peaks, rel_height=0.5)\n",
    "results_full = peak_widths(x, peaks, rel_height=1)\n",
    "\n",
    "contour_heights = tdata[1].peak[peaks]-prominences\n",
    "plt.plot(tdata[1].time,tdata[1].peak)\n",
    "plt.plot(tdata[1].time[peaks],tdata[1].peak[peaks],\"x\")\n",
    "plt.vlines(x=tdata[1].time[peaks], ymin=contour_heights, ymax=tdata[1].peak[peaks])\n",
    "plt.show()\n",
    "\n",
    "# 成功，可以替换成 max peak"
   ]
  },
  {
   "cell_type": "code",
   "execution_count": 64,
   "metadata": {},
   "outputs": [
    {
     "data": {
      "text/plain": [
       "array([8.58306900e-03, 1.90734800e-03, 2.38418600e-03, 8.58306900e-03,\n",
       "       4.76837000e-04, 1.33514400e-02, 3.33786100e-03, 1.90734900e-03,\n",
       "       2.86102300e-03, 4.29153500e-03, 7.62939500e-03, 7.38143921e-01,\n",
       "       1.10945702e+01])"
      ]
     },
     "execution_count": 64,
     "metadata": {},
     "output_type": "execute_result"
    }
   ],
   "source": [
    "prominences"
   ]
  },
  {
   "cell_type": "code",
   "execution_count": 8,
   "metadata": {},
   "outputs": [
    {
     "data": {
      "image/png": "[encoded data removed]",
      "text/plain": [
       "<Figure size 432x288 with 1 Axes>"
      ]
     },
     "metadata": {
      "needs_background": "light"
     },
     "output_type": "display_data"
    }
   ],
   "source": [
    "#show peak position as 'x'\n",
    "tdata = ss[250]\n",
    "x = tdata[1]\n",
    "peaks,param = find_peaks(x.peak)\n",
    "# get prominences\n",
    "prominences = scipy.signal.peak_prominences(x.peak,peaks)[0] # prominences has 3 arraies,use first \n",
    "# get half width,full width\n",
    "results_half = scipy.signal.peak_widths(x.peak, peaks, rel_height=0.5)\n",
    "results_full = scipy.signal.peak_widths(x.peak, peaks, rel_height=1)\n",
    "# calculation about width.\n",
    "# x axis is value .time. But results_half returns indexs of .time,with which we calculate width.\n",
    "# width_coefficient*results_half[0] returns what we see in the plot.\n",
    "index_x_max=x.time.index[x.time==x.time.max()][0]\n",
    "index_x_min=x.time.index[x.time==x.time.min()][0]\n",
    "index_length = index_x_max-index_x_min\n",
    "width_coefficient=(x.time.max()-x.time.min())/index_length\n",
    "\n",
    "\n",
    "contour_heights = x.peak[peaks]-prominences\n",
    "plt.plot(x.time,tdata[1].peak)\n",
    "plt.plot(x.time[peaks],x.peak[peaks],\"x\")\n",
    "plt.vlines(x=x.time[peaks], ymin=contour_heights, ymax=x.peak[peaks])\n",
    "plt.hlines(y=results_half[1],\n",
    "           xmin=width_coefficient*results_half[2],\n",
    "           xmax=width_coefficient*results_half[3],\n",
    "           color=\"C2\")\n",
    "plt.hlines(y=results_full[1],\n",
    "           xmin=width_coefficient*results_full[2],\n",
    "           xmax=width_coefficient*results_full[3], \n",
    "           color=\"C3\")\n",
    "plt.show()\n",
    "\n",
    "# 成功，可以替换成 max peak"
   ]
  },
  {
   "cell_type": "code",
   "execution_count": 75,
   "metadata": {},
   "outputs": [
    {
     "data": {
      "text/plain": [
       "(array([  7.86666668,   3.        ,   2.58333421,  16.70000065,\n",
       "          1.        ,   5.24999993,   3.87499993,   2.99999895,\n",
       "          3.9999986 ,   3.93333341,   6.20000034,  12.02615262,\n",
       "        111.89979308]),\n",
       " array([0.07867813, 0.07104874, 0.07557869, 0.07343292, 0.07414818,\n",
       "        0.0705719 , 0.06461143, 0.04148483, 0.01192093, 0.00786781,\n",
       "        0.00905991, 7.00187683, 6.58106804]),\n",
       " array([311.79999987, 331.        , 340.16666632, 338.79999987,\n",
       "        353.5       , 363.75000007, 374.25      , 390.00000052,\n",
       "        420.00000105, 438.90000004, 447.79999987, 508.24411765,\n",
       "        506.35117968]),\n",
       " array([319.66666655, 334.        , 342.75000052, 355.50000052,\n",
       "        354.5       , 369.        , 378.12499993, 392.99999948,\n",
       "        423.99999965, 442.83333345, 454.00000021, 520.27027027,\n",
       "        618.25097276]))"
      ]
     },
     "execution_count": 75,
     "metadata": {},
     "output_type": "execute_result"
    }
   ],
   "source": [
    "results_half"
   ]
  },
  {
   "cell_type": "code",
   "execution_count": 73,
   "metadata": {},
   "outputs": [
    {
     "data": {
      "text/plain": [
       "311.800000         NaN\n",
       "331.000000    2.206667\n",
       "340.166666         NaN\n",
       "338.800000         NaN\n",
       "353.500000         NaN\n",
       "363.750000         NaN\n",
       "374.250000         NaN\n",
       "390.000001         NaN\n",
       "420.000001         NaN\n",
       "438.900000         NaN\n",
       "447.800000         NaN\n",
       "508.244118         NaN\n",
       "506.351180         NaN\n",
       "Name: time, dtype: float64"
      ]
     },
     "execution_count": 73,
     "metadata": {},
     "output_type": "execute_result"
    }
   ],
   "source": [
    "x.time[results_half[2]]"
   ]
  },
  {
   "cell_type": "code",
   "execution_count": 76,
   "metadata": {},
   "outputs": [
    {
     "data": {
      "text/plain": [
       "array([315, 332, 341, 349, 354, 366, 376, 391, 422, 441, 450, 513, 570])"
      ]
     },
     "execution_count": 76,
     "metadata": {},
     "output_type": "execute_result"
    }
   ],
   "source": [
    "peaks"
   ]
  },
  {
   "cell_type": "code",
   "execution_count": 77,
   "metadata": {},
   "outputs": [
    {
     "data": {
      "text/plain": [
       "array([8.58306900e-03, 1.90734800e-03, 2.38418600e-03, 8.58306900e-03,\n",
       "       4.76837000e-04, 1.33514400e-02, 3.33786100e-03, 1.90734900e-03,\n",
       "       2.86102300e-03, 4.29153500e-03, 7.62939500e-03, 7.38143921e-01,\n",
       "       1.10945702e+01])"
      ]
     },
     "execution_count": 77,
     "metadata": {},
     "output_type": "execute_result"
    }
   ],
   "source": [
    "prominences"
   ]
  },
  {
   "cell_type": "code",
   "execution_count": 100,
   "metadata": {},
   "outputs": [
    {
     "data": {
      "text/plain": [
       "array([0.05244444, 0.02      , 0.01722223, 0.11133334, 0.00666667,\n",
       "       0.035     , 0.02583333, 0.01999999, 0.02666666, 0.02622222,\n",
       "       0.04133334, 0.08017435, 0.74599862])"
      ]
     },
     "execution_count": 100,
     "metadata": {},
     "output_type": "execute_result"
    }
   ],
   "source": [
    "width_coefficient*results_half[0]"
   ]
  },
  {
   "cell_type": "code",
   "execution_count": 101,
   "metadata": {},
   "outputs": [
    {
     "data": {
      "text/plain": [
       "array([0.08833333, 0.04      , 0.03111111, 0.20777778, 0.01333333,\n",
       "       0.06888889, 0.04      , 0.03333333, 0.044     , 0.04666667,\n",
       "       0.12133333, 0.14967937, 1.71363709])"
      ]
     },
     "execution_count": 101,
     "metadata": {},
     "output_type": "execute_result"
    }
   ],
   "source": [
    "width_coefficient*results_full[0]"
   ]
  },
  {
   "cell_type": "code",
   "execution_count": 106,
   "metadata": {},
   "outputs": [
    {
     "data": {
      "image/png": "[encoded data removed]",
      "text/plain": [
       "<Figure size 864x360 with 1 Axes>"
      ]
     },
     "metadata": {
      "needs_background": "light"
     },
     "output_type": "display_data"
    }
   ],
   "source": [
    "#show peak position as 'x'\n",
    "tdata = ss[0]\n",
    "x = tdata[1]\n",
    "peaks,param = find_peaks(x.peak)\n",
    "# get prominences\n",
    "prominences = scipy.signal.peak_prominences(x.peak,peaks)[0] # prominences has 3 arraies,use first \n",
    "# get half width,full width\n",
    "results_half = scipy.signal.peak_widths(x.peak, peaks, rel_height=0.5)\n",
    "results_full = scipy.signal.peak_widths(x.peak, peaks, rel_height=1)\n",
    "# calculation about width.\n",
    "# x axis is value .time. But results_half returns indexs of .time,with which we calculate width.\n",
    "# width_coefficient*results_half[0] returns what we see in the plot.\n",
    "index_x_max=x.time.index[x.time==x.time.max()][0]\n",
    "index_x_min=x.time.index[x.time==x.time.min()][0]\n",
    "index_length = index_x_max-index_x_min\n",
    "width_coefficient=(x.time.max()-x.time.min())/index_length\n",
    "\n",
    "\n",
    "contour_heights = x.peak[peaks]-prominences\n",
    "plt.plot(x.time,tdata[1].peak)\n",
    "plt.plot(x.time[peaks],x.peak[peaks],\"x\")\n",
    "plt.vlines(x=x.time[peaks], ymin=contour_heights, ymax=x.peak[peaks])\n",
    "plt.hlines(y=results_half[1],\n",
    "           xmin=width_coefficient*results_half[2],\n",
    "           xmax=width_coefficient*results_half[3],\n",
    "           color=\"C2\")\n",
    "plt.hlines(y=results_full[1],\n",
    "           xmin=width_coefficient*results_full[2],\n",
    "           xmax=width_coefficient*results_full[3], \n",
    "           color=\"C3\")\n",
    "plt.show()\n",
    "\n",
    "# 成功，可以替换成 max peak"
   ]
  },
  {
   "cell_type": "code",
   "execution_count": 110,
   "metadata": {},
   "outputs": [
    {
     "data": {
      "image/png": "[encoded data removed]",
      "text/plain": [
       "<Figure size 864x360 with 1 Axes>"
      ]
     },
     "metadata": {
      "needs_background": "light"
     },
     "output_type": "display_data"
    }
   ],
   "source": [
    "#show peak position as 'x'\n",
    "tdata = ss[220]\n",
    "x = tdata[1]\n",
    "peaks,param = find_peaks(x.peak)\n",
    "# get prominences\n",
    "prominences = scipy.signal.peak_prominences(x.peak,peaks)[0] # prominences has 3 arraies,use first \n",
    "# get half width,full width\n",
    "results_half = scipy.signal.peak_widths(x.peak, peaks, rel_height=0.5)\n",
    "results_full = scipy.signal.peak_widths(x.peak, peaks, rel_height=1)\n",
    "# calculation about width.\n",
    "# x axis is value .time. But results_half returns indexs of .time,with which we calculate width.\n",
    "# width_coefficient*results_half[0] returns what we see in the plot.\n",
    "index_x_max=x.time.index[x.time==x.time.max()][0]\n",
    "index_x_min=x.time.index[x.time==x.time.min()][0]\n",
    "index_length = index_x_max-index_x_min\n",
    "width_coefficient=(x.time.max()-x.time.min())/index_length\n",
    "\n",
    "\n",
    "contour_heights = x.peak[peaks]-prominences\n",
    "plt.plot(x.time,tdata[1].peak)\n",
    "plt.plot(x.time[peaks],x.peak[peaks],\"x\")\n",
    "plt.vlines(x=x.time[peaks], ymin=contour_heights, ymax=x.peak[peaks])\n",
    "plt.hlines(y=results_half[1],\n",
    "           xmin=width_coefficient*results_half[2],\n",
    "           xmax=width_coefficient*results_half[3],\n",
    "           color=\"C2\")\n",
    "plt.hlines(y=results_full[1],\n",
    "           xmin=width_coefficient*results_full[2],\n",
    "           xmax=width_coefficient*results_full[3], \n",
    "           color=\"C3\")\n",
    "plt.show()\n",
    "\n",
    "# 成功，可以替换成 max peak"
   ]
  },
  {
   "cell_type": "code",
   "execution_count": 7,
   "metadata": {},
   "outputs": [
    {
     "name": "stdout",
     "output_type": "stream",
     "text": [
      "0.006666666666666681\n"
     ]
    },
    {
     "data": {
      "image/png": "[encoded data removed]",
      "text/plain": [
       "<Figure size 432x288 with 1 Axes>"
      ]
     },
     "metadata": {
      "needs_background": "light"
     },
     "output_type": "display_data"
    }
   ],
   "source": [
    "#show peak position as 'x'\n",
    "tdata = ss[200]\n",
    "x = tdata[1]\n",
    "peaks,param = find_peaks(x.peak)\n",
    "# get prominences\n",
    "prominences = scipy.signal.peak_prominences(x.peak,peaks)[0] # prominences has 3 arraies,use first \n",
    "# get half width,full width\n",
    "results_half = scipy.signal.peak_widths(x.peak, peaks, rel_height=0.5)\n",
    "results_full = scipy.signal.peak_widths(x.peak, peaks, rel_height=1)\n",
    "# calculation about width.\n",
    "# x axis is value .time. But results_half returns indexs of .time,with which we calculate width.\n",
    "# width_coefficient*results_half[0] returns what we see in the plot.\n",
    "index_x_max=x.time.index[x.time==x.time.max()][0]\n",
    "index_x_min=x.time.index[x.time==x.time.min()][0]\n",
    "index_length = index_x_max-index_x_min\n",
    "width_coefficient=(x.time.max()-x.time.min())/index_length\n",
    "print(width_coefficient)\n",
    "\n",
    "contour_heights = x.peak[peaks]-prominences\n",
    "plt.plot(x.time,tdata[1].peak)\n",
    "plt.plot(x.time[peaks],x.peak[peaks],\"x\")\n",
    "plt.vlines(x=x.time[peaks], ymin=contour_heights, ymax=x.peak[peaks])\n",
    "plt.hlines(y=results_half[1],\n",
    "           xmin=width_coefficient*results_half[2],\n",
    "           xmax=width_coefficient*results_half[3],\n",
    "           color=\"C2\")\n",
    "plt.hlines(y=results_full[1],\n",
    "           xmin=width_coefficient*results_full[2],\n",
    "           xmax=width_coefficient*results_full[3], \n",
    "           color=\"C3\")\n",
    "plt.show()\n",
    "\n",
    "# 成功，可以替换成 max peak"
   ]
  },
  {
   "cell_type": "code",
   "execution_count": 127,
   "metadata": {},
   "outputs": [],
   "source": [
    "\n",
    "def df2feature_vector(df:'pandas.dataframe',maxn:int=1):\n",
    "    '''\n",
    "    # input pandas.df\\maxn(optional)\n",
    "    # output:([index_list],array[max_peak_list]:peak height,array[prominences],array[results_half[0]],array[results_full[0]])\n",
    "    \n",
    "    need: \n",
    "    import matplotlib.pyplot as plt\n",
    "    import matplotlib\n",
    "    import numpy as np\n",
    "    import nltk\n",
    "    import pandas as pd\n",
    "    import TraverseDir.TraverseDir as td\n",
    "    import pandas_toolkit.mytoolkit as tk\n",
    "    from scipy.signal import find_peaks\n",
    "    import scipy.signal\n",
    "    \n",
    "    maxn:number of max values you want.usually we just pick main peak between time[2.0,5.0]\n",
    "    \n",
    "    about width:\n",
    "    https://docs.scipy.org/doc/scipy/reference/generated/scipy.signal.peak_widths.html#scipy.signal.peak_widths\n",
    "    \n",
    "    '''\n",
    "    # find peaks,return peaks's index array\n",
    "    peaks_found,param = scipy.signal.find_peaks(df.peak)\n",
    "    # pick peaks' <.peak> from df by peaks_found\n",
    "    sele_peak=df.peak[peaks_found]\n",
    "    # pick max value from pd.Series sele_peak,max顺序为数值降序\n",
    "    max_array=sele_peak.values[np.argsort(sele_peak)[-maxn:][::-1]]\n",
    "    # make index list\n",
    "    index_list=[]\n",
    "    for i in max_array:\n",
    "        index_list.append(sele_peak.index[sele_peak==i][0])\n",
    "    # get prominences:array\n",
    "    prominences = scipy.signal.peak_prominences(df.peak,index_list)[0] # prominences has 3 arraies,use first \n",
    "    # get width:array\n",
    "    results_half = scipy.signal.peak_widths(df.peak, index_list, rel_height=0.5)[0]\n",
    "    results_full = scipy.signal.peak_widths(df.peak, index_list, rel_height=1)[0]\n",
    "    # get retention time list\n",
    "    retention_time_list = []\n",
    "    for i in index_list:\n",
    "        retention_time_list.append(df.time[i])\n",
    "    \n",
    "    return (index_list,max_array,retention_time_list,prominences,results_half,results_full)\n",
    "    \n",
    "    \n"
   ]
  },
  {
   "cell_type": "code",
   "execution_count": 128,
   "metadata": {},
   "outputs": [
    {
     "name": "stdout",
     "output_type": "stream",
     "text": [
      "<class 'pandas.core.frame.DataFrame'>\n"
     ]
    },
    {
     "data": {
      "text/plain": [
       "6"
      ]
     },
     "execution_count": 128,
     "metadata": {},
     "output_type": "execute_result"
    }
   ],
   "source": [
    "print(type(x))\n",
    "a = df2feature_vector(x)\n",
    "len(a)"
   ]
  },
  {
   "cell_type": "code",
   "execution_count": 130,
   "metadata": {},
   "outputs": [
    {
     "data": {
      "text/plain": [
       "([570],\n",
       " array([12.12835312]),\n",
       " [3.8],\n",
       " array([11.09457016]),\n",
       " array([111.89979308]),\n",
       " array([257.04556355]))"
      ]
     },
     "execution_count": 130,
     "metadata": {},
     "output_type": "execute_result"
    }
   ],
   "source": [
    "a"
   ]
  },
  {
   "cell_type": "code",
   "execution_count": 131,
   "metadata": {},
   "outputs": [],
   "source": [
    "a = df2feature_vector(x,2)"
   ]
  },
  {
   "cell_type": "code",
   "execution_count": 132,
   "metadata": {},
   "outputs": [
    {
     "data": {
      "text/plain": [
       "([570, 513],\n",
       " array([12.12835312,  7.37094879]),\n",
       " [3.8, 3.42],\n",
       " array([11.09457016,  0.73814392]),\n",
       " array([111.89979308,  12.02615262]),\n",
       " array([257.04556355,  22.45190563]))"
      ]
     },
     "execution_count": 132,
     "metadata": {},
     "output_type": "execute_result"
    }
   ],
   "source": [
    "a"
   ]
  },
  {
   "cell_type": "code",
   "execution_count": 2,
   "metadata": {},
   "outputs": [],
   "source": [
    "from FeatureGet.featureget import df2feature_vector\n",
    "\n"
   ]
  },
  {
   "cell_type": "code",
   "execution_count": 3,
   "metadata": {},
   "outputs": [],
   "source": [
    "# load\n",
    "with open('/Users/wangmu/Documents/GitHub/sec_analyse/data_list/laballdata_datalist_ss_20_50','rb') as fi:\n",
    "    ss = pickle.load(fi)"
   ]
  },
  {
   "cell_type": "code",
   "execution_count": 27,
   "metadata": {},
   "outputs": [
    {
     "name": "stdout",
     "output_type": "stream",
     "text": [
      "49593\n",
      "[('3772H', [4.774391651153565, 3.66625, 81.96439244589044]), ('3773', [5.907371640205383, 3.6622833333333396, 89.69074297564805]), ('3773H', [2.3182183504104596, 3.78583333333334, 97.1688081675104]), ('3774', [7.293127477169042, 3.6641666666666697, 78.18116929796668]), ('3774H', [2.780906856060034, 3.7058333333333398, 90.88491209893414]), ('3775', [9.98125225305557, 3.64916666666667, 75.09283148669113]), ('3775H', [3.925614058971408, 3.6775, 87.29914960586223]), ('3776', [7.731057703495026, 3.64916666666667, 81.14141837066512]), ('3776H', [2.8699338436126687, 3.70353333333334, 89.59700460828458]), ('3777', [10.620586574077645, 3.64145, 75.06253398315016])]\n"
     ]
    }
   ],
   "source": [
    "# report\n",
    "print(len(name_feature_list))\n",
    "print(name_feature_list[200:210])"
   ]
  },
  {
   "cell_type": "code",
   "execution_count": 28,
   "metadata": {},
   "outputs": [],
   "source": [
    "# 之后可以对该特征值做图 展示，之后再对其进行分级简化做成label"
   ]
  },
  {
   "cell_type": "code",
   "execution_count": null,
   "metadata": {},
   "outputs": [],
   "source": []
  },
  {
   "cell_type": "code",
   "execution_count": 36,
   "metadata": {},
   "outputs": [
    {
     "name": "stdout",
     "output_type": "stream",
     "text": [
      "BEFORE AKTA\n",
      "2014-01-02-300NACL\n",
      "2014-01-06-1000NACL\n",
      "2014-01-06-500NACL\n",
      "I-AC-MG53-DTT-2013-12-26\n",
      "MG53-DTT-NO TAG-2013-12-27\n",
      "MG53-DTT-WITH TAG-I-AC-2013-12-26\n",
      "1130\n",
      "number of all: 8\n",
      "49515\n"
     ]
    }
   ],
   "source": [
    "counter = 0\n",
    "for i in name_feature_list:\n",
    "    if i[1] == [0,0,0]:\n",
    "        counter+=1\n",
    "        print(i[0])\n",
    "        name_feature_list.remove(i)\n",
    "        \n",
    "print('number of all:',counter)\n",
    "print(len(name_feature_list))"
   ]
  },
  {
   "cell_type": "code",
   "execution_count": 17,
   "metadata": {},
   "outputs": [],
   "source": [
    "def df2feature_vector_copy(df:'pandas.dataframe',maxn:int=1):\n",
    "    \n",
    "    '''\n",
    "    input pandas.df\\maxn(optional)\n",
    "    output:([index_list],array[max_peak_list]:peak height,array[prominences],array[results_half[0]],array[results_full[0]])\n",
    "    \n",
    "    need: \n",
    "    import matplotlib.pyplot as plt\n",
    "    import matplotlib\n",
    "    import numpy as np\n",
    "    import nltk\n",
    "    import pandas as pd\n",
    "    import TraverseDir.TraverseDir as td\n",
    "    import pandas_toolkit.mytoolkit as tk\n",
    "    from scipy.signal import find_peaks\n",
    "    import scipy.signal\n",
    "    \n",
    "    maxn:number of max values you want.usually we just pick main peak between time[2.0,5.0]\n",
    "    \n",
    "    about width:\n",
    "    https://docs.scipy.org/doc/scipy/reference/generated/scipy.signal.peak_widths.html#scipy.signal.peak_widths\n",
    "    '''\n",
    "    try:\n",
    "        # find peaks,return peaks's index array\n",
    "        peaks_found,_ = scipy.signal.find_peaks(df.peak)\n",
    "        # pick peaks' <.peak> from df by peaks_found\n",
    "        sele_peak=df.peak[peaks_found]\n",
    "        # pick max value from pd.Series sele_peak,max顺序为数值降序\n",
    "        max_array=sele_peak.values[np.argsort(sele_peak)[-maxn:][::-1]]\n",
    "        # make index list\n",
    "        index_list=[]\n",
    "        for i in max_array:\n",
    "            index_list.append(sele_peak.index[sele_peak==i][0])\n",
    "        # get prominences:array\n",
    "        prominences = scipy.signal.peak_prominences(df.peak,index_list)[0] # prominences has 3 arraies,use first \n",
    "        # calculation about width.\n",
    "        # x axis is value .time. But results_half returns indexs of .time,with which we calculate width.\n",
    "        # width_coefficient*results_half[0] returns what we see in the plot.\n",
    "        index_x_max=df.time.index[df.time==df.time.max()][0]\n",
    "        index_x_min=df.time.index[df.time==df.time.min()][0]\n",
    "        index_length = index_x_max-index_x_min\n",
    "        width_coefficient=(df.time.max()-df.time.min())/index_length\n",
    "        \n",
    "        # get width:array\n",
    "        results_half = scipy.signal.peak_widths(df.peak, index_list, rel_height=0.5)[0]*width_coefficient\n",
    "        results_full = scipy.signal.peak_widths(df.peak, index_list, rel_height=1)[0]*width_coefficient\n",
    "        # get retention time list\n",
    "        retention_time_list = []\n",
    "        for i in index_list:\n",
    "            retention_time_list.append(df.time[i])\n",
    "        \n",
    "        return (index_list,max_array,retention_time_list,prominences,results_half,results_full)\n",
    "    except TypeError:\n",
    "        return ([])"
   ]
  },
  {
   "cell_type": "code",
   "execution_count": 18,
   "metadata": {},
   "outputs": [],
   "source": [
    "def make_name_feature_list(ss:'df'):\n",
    "    ### make feature list [(name,[feature])]\n",
    "    name_feature_list = []\n",
    "    for sample in ss:\n",
    "        name = sample[0]\n",
    "        df_zero = sample[1]\n",
    "        \n",
    "        try:\n",
    "            features = df2feature_vector_copy(df_zero,1)\n",
    "            max_peak= features[3][0] #use prominences\n",
    "            retention_time = features[2][0]\n",
    "            half_width = features[4][0]\n",
    "            \n",
    "            name_feature_list.append((name,[max_peak,retention_time,half_width]))\n",
    "        except IndexError:\n",
    "            pass\n",
    "    return name_feature_list"
   ]
  },
  {
   "cell_type": "code",
   "execution_count": 19,
   "metadata": {},
   "outputs": [],
   "source": [
    "nflist = make_name_feature_list(ss)\n"
   ]
  },
  {
   "cell_type": "code",
   "execution_count": 20,
   "metadata": {},
   "outputs": [
    {
     "data": {
      "text/plain": [
       "('3772H', [4.774391651153565, 3.66625, 0.5464292829726041])"
      ]
     },
     "execution_count": 20,
     "metadata": {},
     "output_type": "execute_result"
    }
   ],
   "source": [
    "nflist[200]"
   ]
  },
  {
   "cell_type": "code",
   "execution_count": 21,
   "metadata": {},
   "outputs": [
    {
     "data": {
      "text/plain": [
       "49514"
      ]
     },
     "execution_count": 21,
     "metadata": {},
     "output_type": "execute_result"
    }
   ],
   "source": [
    "len(nflist)"
   ]
  },
  {
   "cell_type": "code",
   "execution_count": 22,
   "metadata": {},
   "outputs": [],
   "source": [
    "#成功 完成抓取特征"
   ]
  },
  {
   "cell_type": "code",
   "execution_count": null,
   "metadata": {},
   "outputs": [],
   "source": []
  }
 ],
 "metadata": {
  "kernelspec": {
   "display_name": "Python 3",
   "language": "python",
   "name": "python3"
  },
  "language_info": {
   "codemirror_mode": {
    "name": "ipython",
    "version": 3
   },
   "file_extension": ".py",
   "mimetype": "text/x-python",
   "name": "python",
   "nbconvert_exporter": "python",
   "pygments_lexer": "ipython3",
   "version": "3.7.2"
  }
 },
 "nbformat": 4,
 "nbformat_minor": 2
}
